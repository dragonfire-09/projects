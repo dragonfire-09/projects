{
  "nbformat": 4,
  "nbformat_minor": 0,
  "metadata": {
    "kernelspec": {
      "display_name": "Python 3",
      "language": "python",
      "name": "python3"
    },
    "language_info": {
      "codemirror_mode": {
        "name": "ipython",
        "version": 3
      },
      "file_extension": ".py",
      "mimetype": "text/x-python",
      "name": "python",
      "nbconvert_exporter": "python",
      "pygments_lexer": "ipython3",
      "version": "3.6.8"
    },
    "colab": {
      "name": "2.9 Working with geolocation data.ipynb adlı not defterinin kopyası",
      "provenance": []
    }
  },
  "cells": [
    {
      "cell_type": "markdown",
      "metadata": {
        "id": "2rCsFG3R4Fnp"
      },
      "source": [
        "# Working with geolocation data\n",
        "\n",
        "\n",
        "In this practical, we will look at the location data we have stored for each tweet.  We will learn how to process geolocation coordinates, and obtain a more human readable label for these locations by obtaining full address information such as town, city, and county names, which we will be using to summarise and visualise the tweets.\n",
        "\n",
        "Our first task this week is to load our data set and beginning exploring the locations referenced in the Twitter data set.  We import the Pandas library as before, read in the .csv file, and call .head(20) on the data frame to view the first 20 rows of data:"
      ]
    },
    {
      "cell_type": "code",
      "metadata": {
        "id": "Lhm0uHSm4Fnv",
        "colab": {
          "base_uri": "https://localhost:8080/",
          "height": 206
        },
        "outputId": "f9c5f9c4-92ba-4df0-c6bc-007aa91ade35"
      },
      "source": [
        "import pandas as pd\n",
        "\n",
        "df = pd.read_csv('https://raw.githubusercontent.com/BBKdatasciencetaster/DS/main/data/twitter_data_olio_UK_b.csv')\n",
        "df.head()"
      ],
      "execution_count": 21,
      "outputs": [
        {
          "output_type": "execute_result",
          "data": {
            "text/html": [
              "<div>\n",
              "<style scoped>\n",
              "    .dataframe tbody tr th:only-of-type {\n",
              "        vertical-align: middle;\n",
              "    }\n",
              "\n",
              "    .dataframe tbody tr th {\n",
              "        vertical-align: top;\n",
              "    }\n",
              "\n",
              "    .dataframe thead th {\n",
              "        text-align: right;\n",
              "    }\n",
              "</style>\n",
              "<table border=\"1\" class=\"dataframe\">\n",
              "  <thead>\n",
              "    <tr style=\"text-align: right;\">\n",
              "      <th></th>\n",
              "      <th>date</th>\n",
              "      <th>_id</th>\n",
              "      <th>place_name</th>\n",
              "      <th>place_type</th>\n",
              "      <th>lat</th>\n",
              "      <th>lng</th>\n",
              "      <th>text</th>\n",
              "    </tr>\n",
              "  </thead>\n",
              "  <tbody>\n",
              "    <tr>\n",
              "      <th>0</th>\n",
              "      <td>Tue Sep 29 20:57:35 +0000 2020</td>\n",
              "      <td>1311047494021701632</td>\n",
              "      <td>Oadby</td>\n",
              "      <td>city</td>\n",
              "      <td>52.5883</td>\n",
              "      <td>-1.09612</td>\n",
              "      <td>\"Hovis granary wholemeal\" in #Leicester #Unite...</td>\n",
              "    </tr>\n",
              "    <tr>\n",
              "      <th>1</th>\n",
              "      <td>Tue Sep 29 20:43:53 +0000 2020</td>\n",
              "      <td>1311044046471585792</td>\n",
              "      <td>Oadby</td>\n",
              "      <td>city</td>\n",
              "      <td>52.5883</td>\n",
              "      <td>-1.09612</td>\n",
              "      <td>\"Celery\" in #Leicester #UnitedKingdom https://...</td>\n",
              "    </tr>\n",
              "    <tr>\n",
              "      <th>2</th>\n",
              "      <td>Tue Sep 29 20:43:26 +0000 2020</td>\n",
              "      <td>1311043935322611712</td>\n",
              "      <td>Hammersmith</td>\n",
              "      <td>city</td>\n",
              "      <td>51.4865</td>\n",
              "      <td>-0.22651</td>\n",
              "      <td>\"Eat 17 - small baguettes\" in #London #UnitedK...</td>\n",
              "    </tr>\n",
              "    <tr>\n",
              "      <th>3</th>\n",
              "      <td>Tue Sep 29 20:41:30 +0000 2020</td>\n",
              "      <td>1311043448972083203</td>\n",
              "      <td>Barking</td>\n",
              "      <td>city</td>\n",
              "      <td>51.5409</td>\n",
              "      <td>0.12200</td>\n",
              "      <td>\"Salad\" in #Dagenham #UnitedKingdom https://t....</td>\n",
              "    </tr>\n",
              "    <tr>\n",
              "      <th>4</th>\n",
              "      <td>Tue Sep 29 20:41:06 +0000 2020</td>\n",
              "      <td>1311043346257772544</td>\n",
              "      <td>Glasgow</td>\n",
              "      <td>city</td>\n",
              "      <td>55.8720</td>\n",
              "      <td>-4.26896</td>\n",
              "      <td>\"Humous and Chipotle Wrap\" in #Glasgow #United...</td>\n",
              "    </tr>\n",
              "  </tbody>\n",
              "</table>\n",
              "</div>"
            ],
            "text/plain": [
              "                             date  ...                                               text\n",
              "0  Tue Sep 29 20:57:35 +0000 2020  ...  \"Hovis granary wholemeal\" in #Leicester #Unite...\n",
              "1  Tue Sep 29 20:43:53 +0000 2020  ...  \"Celery\" in #Leicester #UnitedKingdom https://...\n",
              "2  Tue Sep 29 20:43:26 +0000 2020  ...  \"Eat 17 - small baguettes\" in #London #UnitedK...\n",
              "3  Tue Sep 29 20:41:30 +0000 2020  ...  \"Salad\" in #Dagenham #UnitedKingdom https://t....\n",
              "4  Tue Sep 29 20:41:06 +0000 2020  ...  \"Humous and Chipotle Wrap\" in #Glasgow #United...\n",
              "\n",
              "[5 rows x 7 columns]"
            ]
          },
          "metadata": {},
          "execution_count": 21
        }
      ]
    },
    {
      "cell_type": "markdown",
      "metadata": {
        "id": "HL7eM1L04Fnx"
      },
      "source": [
        "The next step is to look at summary statistics computed over the whole dataset, the .describe() method produces a simple report on the number of rows of data, the number of unique items we have, and the most common category together with its count. "
      ]
    },
    {
      "cell_type": "code",
      "metadata": {
        "id": "iyuhOC0j4Fnx",
        "colab": {
          "base_uri": "https://localhost:8080/"
        },
        "outputId": "a17882ed-f6e4-4372-a913-db30ee807e5d"
      },
      "source": [
        "df['place_name'].describe()"
      ],
      "execution_count": 22,
      "outputs": [
        {
          "output_type": "execute_result",
          "data": {
            "text/plain": [
              "count         4634\n",
              "unique         289\n",
              "top       East Ham\n",
              "freq           241\n",
              "Name: place_name, dtype: object"
            ]
          },
          "metadata": {},
          "execution_count": 22
        }
      ]
    },
    {
      "cell_type": "markdown",
      "metadata": {
        "id": "CIc3IC_V4Fny"
      },
      "source": [
        "From running the example, we see that the dataset contains 4,634 unique tweets, with 289 unique locations mentioned across the United Kingdom. Of the total tweets the most mentioned location is 'East Ham' with 241 tweets.  To learn more about the whole data set, we can summarise the values of our columns. We will first explore the locations that are mentioned with the tweets, by grouping the data according to the locations stored under the 'place_name' column. We then select the top-10 rows with the highest frequency counts as our summary:"
      ]
    },
    {
      "cell_type": "code",
      "metadata": {
        "id": "wDIMi5TP4Fny",
        "colab": {
          "base_uri": "https://localhost:8080/"
        },
        "outputId": "2e8b065b-386b-4b90-8954-e69eb5fac2c8"
      },
      "source": [
        "place_names = df.groupby(['place_name']).size().nlargest(10)\n",
        "place_names"
      ],
      "execution_count": 23,
      "outputs": [
        {
          "output_type": "execute_result",
          "data": {
            "text/plain": [
              "place_name\n",
              "East Ham       241\n",
              "Walthamstow    226\n",
              "Richmond       188\n",
              "Reading        176\n",
              "Hull           148\n",
              "Islington      145\n",
              "Stevenage      129\n",
              "Grays          114\n",
              "Ipswich        108\n",
              "Poplar         108\n",
              "dtype: int64"
            ]
          },
          "metadata": {},
          "execution_count": 23
        }
      ]
    },
    {
      "cell_type": "markdown",
      "metadata": {
        "id": "s4AyUuCf4Fnz"
      },
      "source": [
        "Let's visualise these summary statistics to get a feel for the proportion of tweets mentioning each location. We plot our summary as a simple bar chart, and add a title and y-axis label:"
      ]
    },
    {
      "cell_type": "code",
      "metadata": {
        "id": "XvuGmyMT4Fnz",
        "colab": {
          "base_uri": "https://localhost:8080/",
          "height": 371
        },
        "outputId": "3fe976e5-5500-48e4-c146-66f721105ac7"
      },
      "source": [
        "barchart = place_names.plot(kind='bar')\n",
        "barchart.set_title('Tweeted locations')\n",
        "barchart.set_ylabel('Count')\n",
        "barchart"
      ],
      "execution_count": 24,
      "outputs": [
        {
          "output_type": "execute_result",
          "data": {
            "text/plain": [
              "<matplotlib.axes._subplots.AxesSubplot at 0x7f530a8e3910>"
            ]
          },
          "metadata": {},
          "execution_count": 24
        },
        {
          "output_type": "display_data",
          "data": {
            "image/png": "[encoded data removed]",
            "text/plain": [
              "<Figure size 432x288 with 1 Axes>"
            ]
          },
          "metadata": {
            "needs_background": "light"
          }
        }
      ]
    },
    {
      "cell_type": "markdown",
      "metadata": {
        "id": "4p3kSHDI4Fn0"
      },
      "source": [
        "Another column we can inspect is the 'place_type', which will tell us the types of locations mentioned, such as 'city'. Calling the .size() method on the grouped data will return the number of rows per categ"
      ]
    },
    {
      "cell_type": "code",
      "metadata": {
        "id": "yl2rjgle4Fn1",
        "colab": {
          "base_uri": "https://localhost:8080/"
        },
        "outputId": "d828e52e-5ea5-4751-b919-ea00ecc62af2"
      },
      "source": [
        "df.groupby(['place_type']).size()"
      ],
      "execution_count": 25,
      "outputs": [
        {
          "output_type": "execute_result",
          "data": {
            "text/plain": [
              "place_type\n",
              "admin      83\n",
              "city     4551\n",
              "dtype: int64"
            ]
          },
          "metadata": {},
          "execution_count": 25
        }
      ]
    },
    {
      "cell_type": "markdown",
      "metadata": {
        "id": "LdhV68Ae4Fn1"
      },
      "source": [
        "The majority of our data set contains locations relating to cities. However, a small proportion of our data (83 rows in total) are described by the Twitter API as 'admin'.  Let's explore this further to see what this means by selecting the subset of our data where the 'place_type' is equal to 'admin'. We will select a random sample of 20 rows from this subset to act as our summary:"
      ]
    },
    {
      "cell_type": "code",
      "metadata": {
        "id": "ICjDjyLd4Fn2",
        "colab": {
          "base_uri": "https://localhost:8080/",
          "height": 363
        },
        "outputId": "f408e525-4335-4450-dfe7-52d42ef70f0f"
      },
      "source": [
        "df.loc[df['place_type'] == 'admin'].sample(10)"
      ],
      "execution_count": 26,
      "outputs": [
        {
          "output_type": "execute_result",
          "data": {
            "text/html": [
              "<div>\n",
              "<style scoped>\n",
              "    .dataframe tbody tr th:only-of-type {\n",
              "        vertical-align: middle;\n",
              "    }\n",
              "\n",
              "    .dataframe tbody tr th {\n",
              "        vertical-align: top;\n",
              "    }\n",
              "\n",
              "    .dataframe thead th {\n",
              "        text-align: right;\n",
              "    }\n",
              "</style>\n",
              "<table border=\"1\" class=\"dataframe\">\n",
              "  <thead>\n",
              "    <tr style=\"text-align: right;\">\n",
              "      <th></th>\n",
              "      <th>date</th>\n",
              "      <th>_id</th>\n",
              "      <th>place_name</th>\n",
              "      <th>place_type</th>\n",
              "      <th>lat</th>\n",
              "      <th>lng</th>\n",
              "      <th>text</th>\n",
              "    </tr>\n",
              "  </thead>\n",
              "  <tbody>\n",
              "    <tr>\n",
              "      <th>465</th>\n",
              "      <td>Tue Sep 29 16:26:28 +0000 2020</td>\n",
              "      <td>1310979266604142592</td>\n",
              "      <td>London</td>\n",
              "      <td>admin</td>\n",
              "      <td>51.671963</td>\n",
              "      <td>-0.016852</td>\n",
              "      <td>\"Bacon roll \" in #Enfield #UnitedKingdom https...</td>\n",
              "    </tr>\n",
              "    <tr>\n",
              "      <th>2596</th>\n",
              "      <td>Mon Sep 28 07:51:17 +0000 2020</td>\n",
              "      <td>1310487229727420418</td>\n",
              "      <td>East</td>\n",
              "      <td>admin</td>\n",
              "      <td>52.604352</td>\n",
              "      <td>1.172783</td>\n",
              "      <td>\"5 donuts \" in #Norwich #UnitedKingdom https:/...</td>\n",
              "    </tr>\n",
              "    <tr>\n",
              "      <th>3405</th>\n",
              "      <td>Thu Oct 01 07:51:06 +0000 2020</td>\n",
              "      <td>1311574343919579138</td>\n",
              "      <td>South East</td>\n",
              "      <td>admin</td>\n",
              "      <td>51.454500</td>\n",
              "      <td>-0.856300</td>\n",
              "      <td>\"Warburton  Toasties \" in #Reading #UnitedKing...</td>\n",
              "    </tr>\n",
              "    <tr>\n",
              "      <th>958</th>\n",
              "      <td>Tue Sep 29 10:23:28 +0000 2020</td>\n",
              "      <td>1310887915006963712</td>\n",
              "      <td>South East</td>\n",
              "      <td>admin</td>\n",
              "      <td>51.600200</td>\n",
              "      <td>-1.263760</td>\n",
              "      <td>\"Thick white toastie loaf 800g \" in #Didcot #U...</td>\n",
              "    </tr>\n",
              "    <tr>\n",
              "      <th>3359</th>\n",
              "      <td>Thu Oct 01 08:12:08 +0000 2020</td>\n",
              "      <td>1311579639161200645</td>\n",
              "      <td>West Midlands</td>\n",
              "      <td>admin</td>\n",
              "      <td>52.366900</td>\n",
              "      <td>-1.701310</td>\n",
              "      <td>\"Tiger rolls 6pack \" in #Solihull #UnitedKingd...</td>\n",
              "    </tr>\n",
              "    <tr>\n",
              "      <th>3386</th>\n",
              "      <td>Thu Oct 01 07:58:46 +0000 2020</td>\n",
              "      <td>1311576274754732032</td>\n",
              "      <td>South East</td>\n",
              "      <td>admin</td>\n",
              "      <td>51.454500</td>\n",
              "      <td>-0.856300</td>\n",
              "      <td>\"2 Plain croissants\" in #Reading #UnitedKingdo...</td>\n",
              "    </tr>\n",
              "    <tr>\n",
              "      <th>1070</th>\n",
              "      <td>Tue Sep 29 09:35:07 +0000 2020</td>\n",
              "      <td>1310875745548472320</td>\n",
              "      <td>Bailiwick of Jersey</td>\n",
              "      <td>admin</td>\n",
              "      <td>49.201000</td>\n",
              "      <td>-2.143830</td>\n",
              "      <td>\"Aubergine\" in #Jersey #UnitedKingdom https://...</td>\n",
              "    </tr>\n",
              "    <tr>\n",
              "      <th>2595</th>\n",
              "      <td>Mon Sep 28 07:52:31 +0000 2020</td>\n",
              "      <td>1310487539543875584</td>\n",
              "      <td>East</td>\n",
              "      <td>admin</td>\n",
              "      <td>52.604352</td>\n",
              "      <td>1.172783</td>\n",
              "      <td>\"5 sweet pastries\" in #Norwich #UnitedKingdom ...</td>\n",
              "    </tr>\n",
              "    <tr>\n",
              "      <th>2593</th>\n",
              "      <td>Mon Sep 28 07:53:38 +0000 2020</td>\n",
              "      <td>1310487820474212352</td>\n",
              "      <td>East</td>\n",
              "      <td>admin</td>\n",
              "      <td>52.604352</td>\n",
              "      <td>1.172783</td>\n",
              "      <td>\"Sweet pastries \" in #Norwich #UnitedKingdom h...</td>\n",
              "    </tr>\n",
              "    <tr>\n",
              "      <th>1019</th>\n",
              "      <td>Tue Sep 29 10:00:44 +0000 2020</td>\n",
              "      <td>1310882194618044416</td>\n",
              "      <td>South East</td>\n",
              "      <td>admin</td>\n",
              "      <td>51.600193</td>\n",
              "      <td>-1.263759</td>\n",
              "      <td>\"Fair trade bananas \" in #Didcot #UnitedKingdo...</td>\n",
              "    </tr>\n",
              "  </tbody>\n",
              "</table>\n",
              "</div>"
            ],
            "text/plain": [
              "                                date  ...                                               text\n",
              "465   Tue Sep 29 16:26:28 +0000 2020  ...  \"Bacon roll \" in #Enfield #UnitedKingdom https...\n",
              "2596  Mon Sep 28 07:51:17 +0000 2020  ...  \"5 donuts \" in #Norwich #UnitedKingdom https:/...\n",
              "3405  Thu Oct 01 07:51:06 +0000 2020  ...  \"Warburton  Toasties \" in #Reading #UnitedKing...\n",
              "958   Tue Sep 29 10:23:28 +0000 2020  ...  \"Thick white toastie loaf 800g \" in #Didcot #U...\n",
              "3359  Thu Oct 01 08:12:08 +0000 2020  ...  \"Tiger rolls 6pack \" in #Solihull #UnitedKingd...\n",
              "3386  Thu Oct 01 07:58:46 +0000 2020  ...  \"2 Plain croissants\" in #Reading #UnitedKingdo...\n",
              "1070  Tue Sep 29 09:35:07 +0000 2020  ...  \"Aubergine\" in #Jersey #UnitedKingdom https://...\n",
              "2595  Mon Sep 28 07:52:31 +0000 2020  ...  \"5 sweet pastries\" in #Norwich #UnitedKingdom ...\n",
              "2593  Mon Sep 28 07:53:38 +0000 2020  ...  \"Sweet pastries \" in #Norwich #UnitedKingdom h...\n",
              "1019  Tue Sep 29 10:00:44 +0000 2020  ...  \"Fair trade bananas \" in #Didcot #UnitedKingdo...\n",
              "\n",
              "[10 rows x 7 columns]"
            ]
          },
          "metadata": {},
          "execution_count": 26
        }
      ]
    },
    {
      "cell_type": "markdown",
      "metadata": {
        "id": "cOpBIur14Fn3"
      },
      "source": [
        "From the summary we observe that the place type 'admin' appears to be assigned to large regions, in other words, the location encoded by the tweet relates to an administrative district rather than a city, despite the presence of hashtags relating to the city name in the tweet text, e.g. #Falkirk, #Didcot, and #Enfield. Before we continue we will correct the place name for these tweets so that they refer to the city rather than the level of administrative district."
      ]
    },
    {
      "cell_type": "markdown",
      "metadata": {
        "id": "Hh4T3v1o4Fn4"
      },
      "source": [
        "How might we correct these values?  If we think about the information we have about each tweet, can you think of a method to retrieve the correct city name? We will correct this issue by extracting the missing values using another API that will identify a location and the full address given coordinates in the form of latitude and longitude, by applying a method known as reverse geo-coding. Given a set of coordinates, reverse geo-coding involves extracting a text string with address information that we can use to fill in our missing data. We will extract the town or city name for the locations listed as \"admin\" using the geo-coordinates latitude and longitude stored in the tweet.  \n",
        "\n",
        "To do this we will import another Python library called geopy, which will take these and return a full address. You can learn more about using the geopy library by reading the official documentation (https://geopy.readthedocs.io/en/latest/). \n",
        "\n",
        "First, let's see how this works in practice. We first import the necessary tools and define a random name for our application, which will be used by the API to identify our request. This identifier can be any text string you can think of.  \n",
        "\n",
        "Once the library is imported, we create a 'geolocator' object, which has a 'reverse' method where we pass the latitude and longitude coordinates. This method returns address details about the location, which we will store in a variable called 'location': "
      ]
    },
    {
      "cell_type": "code",
      "metadata": {
        "id": "MiXUW9wm4Fn5"
      },
      "source": [
        "# reverse geocoding\n",
        "from geopy.geocoders import Nominatim\n",
        "\n",
        "app_name = \"my awesome app\" # <- necessary to identify your request and access the geopy API.\n",
        "\n",
        "geolocator = Nominatim(user_agent=app_name)\n",
        "\n",
        "coordinates = '51.52194, -0.13032'\n",
        "\n",
        "location = geolocator.reverse(coordinates)"
      ],
      "execution_count": 27,
      "outputs": []
    },
    {
      "cell_type": "markdown",
      "metadata": {
        "id": "Z6OLQ_cI4Fn6"
      },
      "source": [
        "We can now inspect the data returned by the method call. To view a text string of the full address, we can view the .address attribute:"
      ]
    },
    {
      "cell_type": "code",
      "metadata": {
        "id": "W5DZwdbl4Fn6",
        "colab": {
          "base_uri": "https://localhost:8080/",
          "height": 35
        },
        "outputId": "65d6e8d0-9bf7-4334-82e2-b6d35327dc94"
      },
      "source": [
        "# Retrieving the full address string:\n",
        "location.address"
      ],
      "execution_count": 28,
      "outputs": [
        {
          "output_type": "execute_result",
          "data": {
            "application/vnd.google.colaboratory.intrinsic+json": {
              "type": "string"
            },
            "text/plain": [
              "'Birkbeck, University of London, Torrington Square, St Giles, Bloomsbury, London Borough of Camden, London, Greater London, England, WC1E 7JL, United Kingdom'"
            ]
          },
          "metadata": {},
          "execution_count": 28
        }
      ]
    },
    {
      "cell_type": "markdown",
      "metadata": {
        "id": "ydnKYK154Fn6"
      },
      "source": [
        "We can also obtain a more useful representation that we can use to extract specific values from the address.  The returned location data also has a 'raw' attribute containing a JSON representation of the address and additional metadata:"
      ]
    },
    {
      "cell_type": "code",
      "metadata": {
        "id": "-kUy1J_e4Fn6",
        "colab": {
          "base_uri": "https://localhost:8080/"
        },
        "outputId": "5baaf8aa-1e7a-4abf-d7b6-9fa241e83d8d"
      },
      "source": [
        "# Retrieving a JSON object for querying specific attributes\n",
        "location.raw"
      ],
      "execution_count": null,
      "outputs": [
        {
          "output_type": "execute_result",
          "data": {
            "text/plain": [
              "{'address': {'amenity': 'Birkbeck, University of London',\n",
              "  'city': 'London',\n",
              "  'city_district': 'London Borough of Camden',\n",
              "  'country': 'United Kingdom',\n",
              "  'country_code': 'gb',\n",
              "  'neighbourhood': 'St Giles',\n",
              "  'postcode': 'WC1E 7JL',\n",
              "  'road': 'Torrington Square',\n",
              "  'state': 'England',\n",
              "  'state_district': 'Greater London',\n",
              "  'suburb': 'Bloomsbury'},\n",
              " 'boundingbox': ['51.5214844', '51.5232251', '-0.131087', '-0.1295004'],\n",
              " 'display_name': 'Birkbeck, University of London, Torrington Square, St Giles, Bloomsbury, London Borough of Camden, London, Greater London, England, WC1E 7JL, United Kingdom',\n",
              " 'lat': '51.5220712',\n",
              " 'licence': 'Data © OpenStreetMap contributors, ODbL 1.0. https://osm.org/copyright',\n",
              " 'lon': '-0.1304649335480022',\n",
              " 'osm_id': 11943583,\n",
              " 'osm_type': 'relation',\n",
              " 'place_id': 283737894}"
            ]
          },
          "metadata": {},
          "execution_count": 9
        }
      ]
    },
    {
      "cell_type": "markdown",
      "metadata": {
        "id": "Zhew-VRT4Fn7"
      },
      "source": [
        "## Task: Locate yourself"
      ]
    },
    {
      "cell_type": "markdown",
      "metadata": {
        "id": "MecAuKDJ4Fn7"
      },
      "source": [
        "As we can see, the .address attribute stores the address according to various fields, such as 'road', 'suburb', and 'city', which means we have all the information we need to address the issue of missing or incorrect values.  Let's check the address information for your current location.  First, visit <a src=\"https://mylocation.org/\">mylocation.org</a> and make a note of the latitute and longitude coordinates. Paste these together and assign them to the 'coordinates' variable.  When you run the example again, you should see the full address of your current location."
      ]
    },
    {
      "cell_type": "code",
      "metadata": {
        "id": "uk3fwUTT4Fn7"
      },
      "source": [
        "# reverse geocoding\n",
        "from geopy.geocoders import Nominatim\n",
        "\n",
        "app_name = \"my awesome app\" # <- necessary to identify your request and access the geopy API.\n",
        "\n",
        "geolocator = Nominatim(user_agent=app_name)\n",
        "\n",
        "coordinates = '51.52194, -0.13032' # <- paste your coordinates here\n",
        "try:\n",
        "    location = geolocator.reverse(coordinates)\n",
        "    location\n",
        "except: print(\"Don't forget, your coordinates should be formatted to look like this '3.0000,50.0000' \")"
      ],
      "execution_count": 30,
      "outputs": []
    },
    {
      "cell_type": "markdown",
      "metadata": {
        "id": "p87uIK7B4Fn8"
      },
      "source": [
        "Now let's return to the issue we wish to address, that is we want to extract the county name for areas defined as administrative ('admin'). One cavaet is that not all the missing values are of the type 'city', some locations maybe 'suburbs', or 'villages', so we need to capture this in our code to ensure that we fill in all the missing data correctly.  We first load the data we processed earlier, then proceed to iterate through each row and pull out the relevant values based on the conditions we have set, as follows:"
      ]
    },
    {
      "cell_type": "code",
      "metadata": {
        "id": "OZhZbHLz4Fn8",
        "colab": {
          "base_uri": "https://localhost:8080/"
        },
        "outputId": "4309583a-b8e7-435b-fb67-0536c427d083"
      },
      "source": [
        "print(\"Reverse geo-coding in progress, this may take a minute...\")\n",
        "\n",
        "# Import the reverse geocoding python library\n",
        "from geopy.geocoders import Nominatim\n",
        "\n",
        "# necessary to identify your request and gain access to the geopy API.\n",
        "app_name = \"my awesome app\"\n",
        "\n",
        "geolocator = Nominatim(user_agent=app_name)\n",
        "\n",
        "for idx, lat, lng, place_type, text in zip(df.index, df.lat, df.lng, df.place_type, df.text):\n",
        "    # skip all rows if the place_type is different from admin.\n",
        "    if place_type != 'admin': continue \n",
        "        \n",
        "    location = geolocator.reverse(\"%s, %s\" %(lat, lng))\n",
        "    address = location.raw['address']\n",
        "    \n",
        "    # Check to see if there is a 'city' attribute we can access.\n",
        "    place_name = address.get('city', None)\n",
        "    place_type = 'city' # <- we will assume a default place type of city.\n",
        "    \n",
        "    if place_name == None:\n",
        "        # No city attribute, check to see if there is a 'suburb' attribute we can access.\n",
        "        place_name = address.get('suburb', None) \n",
        "        place_type = 'suburb'\n",
        "        \n",
        "    if place_name == None:\n",
        "        # No city or suburb attribute, check to see if there is a 'hamlet' attribute we can access.\n",
        "        place_name = address.get('hamlet', None) \n",
        "        place_type = 'hamlet'   \n",
        "        \n",
        "    if place_name == None: \n",
        "        # No city, suburb, or hamlet attribute, check to see if there is a 'town' attribute we can access.\n",
        "        place_name = address.get('town', None) \n",
        "        place_type = 'town'\n",
        "        \n",
        "    if place_name == None: \n",
        "        # None of the above, check to see if there is a 'village' attribute we can access.\n",
        "        place_name = address.get('village', None)\n",
        "        place_type = 'village'\n",
        "    \n",
        "    df.loc[idx, 'place_name'] = place_name\n",
        "    df.loc[idx, 'place_type'] = place_type\n",
        "\n",
        "    #print([idx], (lat, lng), place_name, place_type)\n",
        "print (\"All done!\")"
      ],
      "execution_count": 31,
      "outputs": [
        {
          "output_type": "stream",
          "name": "stdout",
          "text": [
            "Reverse geo-coding in progress, this may take a minute...\n",
            "All done!\n"
          ]
        }
      ]
    },
    {
      "cell_type": "markdown",
      "metadata": {
        "id": "I9b0XsG54Fn8"
      },
      "source": [
        "Once complete, we can now inspect the unique values stored in the place_types column to verify that all rows with a place type of 'admin' have been replaced with more specific information:"
      ]
    },
    {
      "cell_type": "code",
      "metadata": {
        "id": "BVvYz39x4Fn9",
        "colab": {
          "base_uri": "https://localhost:8080/"
        },
        "outputId": "7240c264-fe8e-43ad-bcaf-a9415afade72"
      },
      "source": [
        "df['place_type'].unique()"
      ],
      "execution_count": 32,
      "outputs": [
        {
          "output_type": "execute_result",
          "data": {
            "text/plain": [
              "array(['city', 'village', 'suburb', 'hamlet'], dtype=object)"
            ]
          },
          "metadata": {},
          "execution_count": 32
        }
      ]
    },
    {
      "cell_type": "markdown",
      "metadata": {
        "id": "WZj3RNIi4Fn9"
      },
      "source": [
        "As we can see all of the locations listed as 'admin' by the Twitter API, have now been corrected using information we have gathered through reverse geo-coding."
      ]
    },
    {
      "cell_type": "code",
      "metadata": {
        "id": "Ts8l1pKb4Fn9"
      },
      "source": [
        ""
      ],
      "execution_count": null,
      "outputs": []
    }
  ]
}
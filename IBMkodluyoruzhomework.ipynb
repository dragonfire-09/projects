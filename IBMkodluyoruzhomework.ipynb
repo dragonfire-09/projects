{
  "nbformat": 4,
  "nbformat_minor": 0,
  "metadata": {
    "colab": {
      "provenance": [],
      "authorship_tag": "ABX9TyNibSCzw4h9cm8zWAWT5A+e",
      "include_colab_link": true
    },
    "kernelspec": {
      "name": "python3",
      "display_name": "Python 3"
    },
    "language_info": {
      "name": "python"
    }
  },
  "cells": [
    {
      "cell_type": "markdown",
      "metadata": {
        "id": "view-in-github",
        "colab_type": "text"
      },
      "source": [
        "<a href=\"https://colab.research.google.com/github/dragonfire-09/projects/blob/main/IBMkodluyoruzhomework.ipynb\" target=\"_parent\"><img src=\"https://colab.research.google.com/assets/colab-badge.svg\" alt=\"Open In Colab\"/></a>"
      ]
    },
    {
      "cell_type": "code",
      "execution_count": null,
      "metadata": {
        "colab": {
          "base_uri": "https://localhost:8080/"
        },
        "id": "D6MUVAh-Li91",
        "outputId": "191b063a-a5a3-4359-a753-b78a104ee41e"
      },
      "outputs": [
        {
          "output_type": "stream",
          "name": "stdout",
          "text": [
            "Noktalar arasındaki en küçük Öklid mesafesi: 2.8284271247461903\n"
          ]
        }
      ],
      "source": [
        "import math\n",
        "\n",
        "# Noktaların Tanımlanması\n",
        "points = [(1, 2), (4, 6), (5, 1), (7, 3)]\n",
        "\n",
        "# Öklid Mesafesi Hesaplayan Fonksiyon\n",
        "def euclideanDistance(point1, point2):\n",
        "    return math.sqrt((point2[0] - point1[0]) ** 2 + (point2[1] - point1[1]) ** 2)\n",
        "\n",
        "# Mesafelerin Hesaplanması\n",
        "distances = []\n",
        "for i in range(len(points)):\n",
        "    for j in range(i + 1, len(points)):\n",
        "        distance = euclideanDistance(points[i], points[j])\n",
        "        distances.append(distance)\n",
        "\n",
        "# Minimum Mesafenin Bulunması\n",
        "min_distance = min(distances)\n",
        "\n",
        "# Sonucun Yazdırılması\n",
        "print(f\"Noktalar arasındaki en küçük Öklid mesafesi: {min_distance}\")"
      ]
    }
  ]
}
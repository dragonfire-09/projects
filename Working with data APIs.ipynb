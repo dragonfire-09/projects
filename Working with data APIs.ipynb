{
  "nbformat": 4,
  "nbformat_minor": 0,
  "metadata": {
    "kernelspec": {
      "display_name": "Python 3",
      "language": "python",
      "name": "python3"
    },
    "language_info": {
      "codemirror_mode": {
        "name": "ipython",
        "version": 3
      },
      "file_extension": ".py",
      "mimetype": "text/x-python",
      "name": "python",
      "nbconvert_exporter": "python",
      "pygments_lexer": "ipython3",
      "version": "3.6.8"
    },
    "colab": {
      "name": "2.8 Working with data APIs.ipynb",
      "provenance": []
    }
  },
  "cells": [
    {
      "cell_type": "markdown",
      "metadata": {
        "id": "_kX1tPoCsVs-"
      },
      "source": [
        "# Processing social media data "
      ]
    },
    {
      "cell_type": "markdown",
      "metadata": {
        "id": "mOpgIg1YsVtF"
      },
      "source": [
        "In Python, we will use the simplejson library to convert the JSON data for each tweet, so let's first import it.  The 'as' keyword is used to change the name of an imported tool to something shorter and more convenient.  \n",
        "\n",
        "In the code, you may see the symbol \"#\", this represents a comment and is not run by Python, but simply provides you with more information within the code itself. "
      ]
    },
    {
      "cell_type": "markdown",
      "metadata": {
        "id": "a853N_VBsVtG"
      },
      "source": [
        "### Step 1: Loading our data"
      ]
    },
    {
      "cell_type": "code",
      "metadata": {
        "id": "vQZ7MgNnsVtH"
      },
      "source": [
        "import json\n",
        "import urllib.request"
      ],
      "execution_count": 1,
      "outputs": []
    },
    {
      "cell_type": "markdown",
      "metadata": {
        "id": "oWPcicr6sVtI"
      },
      "source": [
        "We will retrieve the data from an external site, and then read each tweet, and pull out the values we need for our analysis.  We wish to extract the \"date\" the tweet was published (\"created_at\"), The tweet id (\"id_str\") to act as our unique reference when storing and retrieving each tweet, and the tweet \"text\".  As we are interested in geolocation data, we also extract the longitude and latitude of from the tweet \"coordinates\" attribute, the place name (\"place\"), and whether the location is a town or city (\"place_type\").\n"
      ]
    },
    {
      "cell_type": "code",
      "metadata": {
        "id": "_M90mx1GsVtI"
      },
      "source": [
        "temp = [] \n",
        "\n",
        "url = \"https://raw.githubusercontent.com/BBKdatasciencetaster/DS/main/data/twitter_data_olio_UK_a.csv\"\n",
        "\n",
        "filename, headers = urllib.request.urlretrieve(url)\n",
        "\n",
        "with open(filename, 'r') as infile:\n",
        "    for line in infile:\n",
        "        tweet = json.loads(line)\n",
        "        timestamp = tweet['created_at']\n",
        "        message_id = tweet['id_str']\n",
        "        text = tweet['text']\n",
        "        \n",
        "        lat, lng = tweet['geo']['coordinates']\n",
        "        \n",
        "        place_name = tweet['place']['name']\n",
        "        place_type = tweet['place']['place_type']\n",
        "\n",
        "        temp.append([timestamp, message_id, place_name, place_type, lat, lng, text])"
      ],
      "execution_count": 9,
      "outputs": []
    },
    {
      "cell_type": "markdown",
      "metadata": {
        "id": "Yglhn2bXsVtJ"
      },
      "source": [
        "To recap, we now have a list of values extracted from the tweets. To explore this data we will make use of a tool for called Pandas, a Python library for data analysis and visualisation. We begin by importing the library, as follows:"
      ]
    },
    {
      "cell_type": "markdown",
      "metadata": {
        "id": "L74RQWVbsVtK"
      },
      "source": [
        "### Step 2: Transforming our data"
      ]
    },
    {
      "cell_type": "code",
      "metadata": {
        "id": "C5vpjU9UsVtL"
      },
      "source": [
        "import pandas as pd"
      ],
      "execution_count": 10,
      "outputs": []
    },
    {
      "cell_type": "markdown",
      "metadata": {
        "id": "iyFotD9msVtL"
      },
      "source": [
        "As we mentioned previously, Pandas uses the concept of a data frame, a datastructure used to store tabular data, such as that found in spreadsheets and databases. The first argument is our temporary list containing all the tweets we just collated from the .csv file.  We then define the column labels we will use for our data."
      ]
    },
    {
      "cell_type": "code",
      "metadata": {
        "id": "V9sYAAW6sVtM"
      },
      "source": [
        "df = pd.DataFrame(temp, columns=['date', '_id', 'place_name', 'place_type', 'lat', 'lng', 'text'])\n",
        "df['date'] = pd.to_datetime(df['date']) "
      ],
      "execution_count": 11,
      "outputs": []
    },
    {
      "cell_type": "markdown",
      "metadata": {
        "id": "mvrIfxSasVtM"
      },
      "source": [
        "We can now start to explore further by looking at a summary of the data across all columns. We use the Pandas .head() function to view the first few rows of the dataset. This is also a good method for checking that our data was correctly loaded and partitioned into the columns."
      ]
    },
    {
      "cell_type": "code",
      "metadata": {
        "id": "OaT_AKX1sVtN",
        "outputId": "a5f13376-f1a4-4b9e-a065-a28b6e5a867a",
        "colab": {
          "base_uri": "https://localhost:8080/",
          "height": 363
        }
      },
      "source": [
        "df.head(10)"
      ],
      "execution_count": 12,
      "outputs": [
        {
          "output_type": "execute_result",
          "data": {
            "text/html": [
              "<div>\n",
              "<style scoped>\n",
              "    .dataframe tbody tr th:only-of-type {\n",
              "        vertical-align: middle;\n",
              "    }\n",
              "\n",
              "    .dataframe tbody tr th {\n",
              "        vertical-align: top;\n",
              "    }\n",
              "\n",
              "    .dataframe thead th {\n",
              "        text-align: right;\n",
              "    }\n",
              "</style>\n",
              "<table border=\"1\" class=\"dataframe\">\n",
              "  <thead>\n",
              "    <tr style=\"text-align: right;\">\n",
              "      <th></th>\n",
              "      <th>date</th>\n",
              "      <th>_id</th>\n",
              "      <th>place_name</th>\n",
              "      <th>place_type</th>\n",
              "      <th>lat</th>\n",
              "      <th>lng</th>\n",
              "      <th>text</th>\n",
              "    </tr>\n",
              "  </thead>\n",
              "  <tbody>\n",
              "    <tr>\n",
              "      <th>0</th>\n",
              "      <td>2020-09-29 20:57:35+00:00</td>\n",
              "      <td>1311047494021701632</td>\n",
              "      <td>Oadby</td>\n",
              "      <td>city</td>\n",
              "      <td>52.588300</td>\n",
              "      <td>-1.096120</td>\n",
              "      <td>\"Hovis granary wholemeal\" in #Leicester #Unite...</td>\n",
              "    </tr>\n",
              "    <tr>\n",
              "      <th>1</th>\n",
              "      <td>2020-09-29 20:43:53+00:00</td>\n",
              "      <td>1311044046471585792</td>\n",
              "      <td>Oadby</td>\n",
              "      <td>city</td>\n",
              "      <td>52.588300</td>\n",
              "      <td>-1.096120</td>\n",
              "      <td>\"Celery\" in #Leicester #UnitedKingdom https://...</td>\n",
              "    </tr>\n",
              "    <tr>\n",
              "      <th>2</th>\n",
              "      <td>2020-09-29 20:43:26+00:00</td>\n",
              "      <td>1311043935322611712</td>\n",
              "      <td>Hammersmith</td>\n",
              "      <td>city</td>\n",
              "      <td>51.486500</td>\n",
              "      <td>-0.226510</td>\n",
              "      <td>\"Eat 17 - small baguettes\" in #London #UnitedK...</td>\n",
              "    </tr>\n",
              "    <tr>\n",
              "      <th>3</th>\n",
              "      <td>2020-09-29 20:41:30+00:00</td>\n",
              "      <td>1311043448972083203</td>\n",
              "      <td>Barking</td>\n",
              "      <td>city</td>\n",
              "      <td>51.540900</td>\n",
              "      <td>0.122000</td>\n",
              "      <td>\"Salad\" in #Dagenham #UnitedKingdom https://t....</td>\n",
              "    </tr>\n",
              "    <tr>\n",
              "      <th>4</th>\n",
              "      <td>2020-09-29 20:41:06+00:00</td>\n",
              "      <td>1311043346257772544</td>\n",
              "      <td>Glasgow</td>\n",
              "      <td>city</td>\n",
              "      <td>55.872000</td>\n",
              "      <td>-4.268960</td>\n",
              "      <td>\"Humous and Chipotle Wrap\" in #Glasgow #United...</td>\n",
              "    </tr>\n",
              "    <tr>\n",
              "      <th>5</th>\n",
              "      <td>2020-09-29 20:21:16+00:00</td>\n",
              "      <td>1311038353458917376</td>\n",
              "      <td>Camberwell</td>\n",
              "      <td>city</td>\n",
              "      <td>51.495500</td>\n",
              "      <td>-0.097680</td>\n",
              "      <td>\"Sandwich 🥪\" in #London #UnitedKingdom https:/...</td>\n",
              "    </tr>\n",
              "    <tr>\n",
              "      <th>6</th>\n",
              "      <td>2020-09-29 19:58:56+00:00</td>\n",
              "      <td>1311032734249295873</td>\n",
              "      <td>Portsmouth</td>\n",
              "      <td>city</td>\n",
              "      <td>50.819767</td>\n",
              "      <td>-1.087977</td>\n",
              "      <td>\"Kids bedroom curtains\" in #Portsmouth #United...</td>\n",
              "    </tr>\n",
              "    <tr>\n",
              "      <th>7</th>\n",
              "      <td>2020-09-29 19:58:13+00:00</td>\n",
              "      <td>1311032553516793859</td>\n",
              "      <td>Warrington</td>\n",
              "      <td>city</td>\n",
              "      <td>53.388500</td>\n",
              "      <td>-2.662780</td>\n",
              "      <td>\"4 assorted bakery items\" in #Warrington #Unit...</td>\n",
              "    </tr>\n",
              "    <tr>\n",
              "      <th>8</th>\n",
              "      <td>2020-09-29 19:58:10+00:00</td>\n",
              "      <td>1311032540929708035</td>\n",
              "      <td>Warrington</td>\n",
              "      <td>city</td>\n",
              "      <td>53.388500</td>\n",
              "      <td>-2.662780</td>\n",
              "      <td>\"4 assorted bakery items\" in #Warrington #Unit...</td>\n",
              "    </tr>\n",
              "    <tr>\n",
              "      <th>9</th>\n",
              "      <td>2020-09-29 19:58:10+00:00</td>\n",
              "      <td>1311032540178849792</td>\n",
              "      <td>Warrington</td>\n",
              "      <td>city</td>\n",
              "      <td>53.388500</td>\n",
              "      <td>-2.662780</td>\n",
              "      <td>\"4 assorted bakery items\" in #Warrington #Unit...</td>\n",
              "    </tr>\n",
              "  </tbody>\n",
              "</table>\n",
              "</div>"
            ],
            "text/plain": [
              "                       date  ...                                               text\n",
              "0 2020-09-29 20:57:35+00:00  ...  \"Hovis granary wholemeal\" in #Leicester #Unite...\n",
              "1 2020-09-29 20:43:53+00:00  ...  \"Celery\" in #Leicester #UnitedKingdom https://...\n",
              "2 2020-09-29 20:43:26+00:00  ...  \"Eat 17 - small baguettes\" in #London #UnitedK...\n",
              "3 2020-09-29 20:41:30+00:00  ...  \"Salad\" in #Dagenham #UnitedKingdom https://t....\n",
              "4 2020-09-29 20:41:06+00:00  ...  \"Humous and Chipotle Wrap\" in #Glasgow #United...\n",
              "5 2020-09-29 20:21:16+00:00  ...  \"Sandwich 🥪\" in #London #UnitedKingdom https:/...\n",
              "6 2020-09-29 19:58:56+00:00  ...  \"Kids bedroom curtains\" in #Portsmouth #United...\n",
              "7 2020-09-29 19:58:13+00:00  ...  \"4 assorted bakery items\" in #Warrington #Unit...\n",
              "8 2020-09-29 19:58:10+00:00  ...  \"4 assorted bakery items\" in #Warrington #Unit...\n",
              "9 2020-09-29 19:58:10+00:00  ...  \"4 assorted bakery items\" in #Warrington #Unit...\n",
              "\n",
              "[10 rows x 7 columns]"
            ]
          },
          "metadata": {},
          "execution_count": 12
        }
      ]
    },
    {
      "cell_type": "markdown",
      "metadata": {
        "id": "UCHTvrl_sVtO"
      },
      "source": [
        "We have captured information about the date and time of the tweet, the message id, a place name and type, latitude and longitude coordinates and the tweet text. Looking at the text of the tweet, we can see they mention various kinds of products, mainly related to food, and particularly those with a short shelf-life. Some tweets include a hashtag for the location, but this is not always the case. In addition, we can see that in some instances the name of the outlet is included, e.g. \"Pret\", and \"Eat 17\", as well as brands e.g. \"Hovis\". We also observe that several of the same food items are being listed from the same location. People may list more than one item of the same product, which are posted to twitter as individual tweets.\n",
        "\n"
      ]
    },
    {
      "cell_type": "markdown",
      "metadata": {
        "id": "6RIh84HisVtO"
      },
      "source": [
        "We will look at food waste on a product level over time and per region. We will see now many sandwiches are being saved from waste by region, and since many tweets about sandwiches also mention the brand, we can look at this in terms of Pret, Tesco, and Costa, some of the main outlets for sandwiches.\n",
        "\n",
        "Before we proceed we will write three helper functions that will enable us to filter the data given a text string specifiying a keyword or product. We are using a simple approach using regular expressions, a sequence of characters that define a search pattern to match a string. Python has a built in library for regular expressions called 're', which we import.\n",
        "\n",
        "The tweet text contains a description of the product being listed, and luckily this description is enclosed in double quotation marks making it easy to pull out only the product text and ignore all other text pertaining to the hashtags.\n",
        "\n",
        "Our first function 'getProduct' will iterate through our data set and extract the item description using the re.findall() method given a pattern and text to match that pattern against. We then collate the latitude and longitude coordinates for the tweets matching our search string 'product', which is the only argument passed to this function.\n",
        "\n",
        "The second function 'countProductByLocation' iterates through our data set and like the previous function, will match a text string in the tweet message that we specify.  It then constructs a new Pandas DataFrame based on the counts we obtain for the matched string (in our case a food product), which we will use as the data for plotting.\n",
        "\n",
        "The third function 'countByHour' will take the list of hours and coordinates, count up the number of instances per hour, and convert it to a dataframe for summarising and plotting later. By defining these two functions, we can query different products to help us explore deeper into the data with not too much effort or repetition of code.\n"
      ]
    },
    {
      "cell_type": "code",
      "metadata": {
        "id": "QqsD2mAIsVtP"
      },
      "source": [
        "import re # <- import the regular expression library for string matching.\n",
        "\n",
        "def getProduct(df, product):\n",
        "    hour_list = {}\n",
        "    \n",
        "    for lat, lng, hour, text, place_name in zip(df.lat, df.lng, df.date.dt.hour, df.text, df.place_name):\n",
        "        \n",
        "        matches = re.findall(r'\"(.*?)\"', text)\n",
        "        \n",
        "        matched_text = \"\".join(matches)\n",
        "\n",
        "        if product.lower() in matched_text.lower():\n",
        "            hour_list.setdefault(hour, []).append([lat, lng])\n",
        "            \n",
        "            continue # <- We move on to the next tweet after already finding a match\n",
        "\n",
        "    # index containing the hours extracted from the date and timestamp\n",
        "    index = [str(i) +':00' for i in range(len(hour_list.keys()))]\n",
        "    \n",
        "    return index, hour_list\n",
        "\n",
        "def countProductByLocation(df, product):\n",
        "    place_counts = {}\n",
        "    \n",
        "    for lat, lng, hour, text, place_name in zip(df.lat, df.lng, df.date.dt.hour, df.text, df.place_name):\n",
        "        \n",
        "        matches = re.findall(r'\"(.*?)\"', text)\n",
        "        \n",
        "        matched_text = \"\".join(matches)\n",
        "\n",
        "        if product.lower() in matched_text.lower():\n",
        "            place_counts.setdefault(place_name, 0)\n",
        "            place_counts[place_name] += 1\n",
        "            \n",
        "            continue # <- We move on to the next tweet after already finding a match\n",
        "\n",
        "    places_df = pd.DataFrame.from_dict(place_counts, orient='index')\n",
        "    \n",
        "    places_df.reset_index(inplace=True)\n",
        "    places_df.columns=['place_name', 'count']\n",
        "    return places_df\n",
        "            \n",
        "\n",
        "def countByHour(hour_list):\n",
        "    temp = []\n",
        "    for hour in sorted(hour_list.keys()):\n",
        "        number_of_products = len(hour_list[hour])\n",
        "        \n",
        "        temp.append([hour, number_of_products])\n",
        "\n",
        "    product_df = pd.DataFrame(temp, columns=['hour', 'count']).set_index('hour')\n",
        "    \n",
        "    return product_df"
      ],
      "execution_count": 13,
      "outputs": []
    },
    {
      "cell_type": "markdown",
      "metadata": {
        "id": "Tnb494OpsVtP"
      },
      "source": [
        "### Step 3: Exploring our data\n",
        "\n",
        "With our helper functions in place, we can now start to search for items mentioned in the tweet text using a very simple approach.  Let's start with a search for the keywords 'pastries', and 'sandwich' to demonstrate, later we will ask you to amend this list with your own set of keywords:"
      ]
    },
    {
      "cell_type": "code",
      "metadata": {
        "id": "CQ0dW6n1sVtQ",
        "outputId": "b7fa36c8-5ca4-4641-bffb-b44a71221f24",
        "colab": {
          "base_uri": "https://localhost:8080/",
          "height": 312
        }
      },
      "source": [
        "# Product search\n",
        "products = ['sandwich', 'pastries']\n",
        "\n",
        "main_plot = None\n",
        "\n",
        "for product in products:\n",
        "    \n",
        "    index, hour_list = getProduct(df, product)\n",
        "\n",
        "    sandwich_df = countByHour(hour_list)\n",
        "    if main_plot == None:\n",
        "        main_plot = sandwich_df.plot(label=product)\n",
        "    else:\n",
        "        sandwich_df.plot(ax=main_plot, label=product)\n",
        "\n",
        "        \n",
        "main_plot.legend(products)\n",
        "main_plot.set_title('Items listed by hour')\n",
        "main_plot.set_ylabel('Count')\n",
        "main_plot"
      ],
      "execution_count": 14,
      "outputs": [
        {
          "output_type": "execute_result",
          "data": {
            "text/plain": [
              "<matplotlib.axes._subplots.AxesSubplot at 0x7f0244c08210>"
            ]
          },
          "metadata": {},
          "execution_count": 14
        },
        {
          "output_type": "display_data",
          "data": {
            "image/png": "[encoded data removed]",
            "text/plain": [
              "<Figure size 432x288 with 1 Axes>"
            ]
          },
          "metadata": {
            "needs_background": "light"
          }
        }
      ]
    },
    {
      "cell_type": "markdown",
      "metadata": {
        "id": "iIolEz-hsVtQ"
      },
      "source": [
        "Now let's try that again, but this time search for brands or sandwich outlets."
      ]
    },
    {
      "cell_type": "code",
      "metadata": {
        "id": "hpSMzXLisVtQ",
        "outputId": "efdb6ae2-04bf-43ff-b1f3-030663100a0b",
        "colab": {
          "base_uri": "https://localhost:8080/",
          "height": 312
        }
      },
      "source": [
        "# Outlet search\n",
        "brands = ['Tesco', 'Pret', 'Costa']\n",
        "\n",
        "main_plot = None\n",
        "\n",
        "for brand in brands:\n",
        "    \n",
        "    index, hour_list = getProduct(df, brand)\n",
        "\n",
        "    sandwich_df = countByHour(hour_list)\n",
        "    if main_plot == None:\n",
        "        main_plot = sandwich_df.plot(label=brand)\n",
        "    else:\n",
        "        sandwich_df.plot(ax=main_plot, label=brand)\n",
        "\n",
        "main_plot.legend(brands)\n",
        "main_plot.set_title('Outlets listed by hour')\n",
        "main_plot.set_ylabel('Count')\n",
        "main_plot"
      ],
      "execution_count": 15,
      "outputs": [
        {
          "output_type": "execute_result",
          "data": {
            "text/plain": [
              "<matplotlib.axes._subplots.AxesSubplot at 0x7f0244988e50>"
            ]
          },
          "metadata": {},
          "execution_count": 15
        },
        {
          "output_type": "display_data",
          "data": {
            "image/png": "[encoded data removed]",
            "text/plain": [
              "<Figure size 432x288 with 1 Axes>"
            ]
          },
          "metadata": {
            "needs_background": "light"
          }
        }
      ]
    },
    {
      "cell_type": "markdown",
      "metadata": {
        "id": "IrRII7u1sVtR"
      },
      "source": [
        "After plotting the tweets that mention an outlet, we see that these items are generally listed in the latter part of the afternoon and late evening."
      ]
    },
    {
      "cell_type": "markdown",
      "metadata": {
        "id": "WF79wtqSsVtR"
      },
      "source": [
        "## Task\n",
        "\n",
        "Amend the list of products stored in the \"products\" variable, where we currently have ['sandwich', 'pastries'], and run the above cells from <b>Step 3 Exploring our Data</b> again. If you are stuck, look over the table of data again and the text column to see if you can identify any keywords worth exploring.  You can increase the size of the sample in the table with by amending df.head(10) to df.head(20) to expand the table view to the first twenty rows of data.\n",
        "\n",
        "You will see from this simple example analysis we can already explore a number of questions about food waste using relatively little data. Depending on your data it may be necessary to employ more sophisticated Natural Language Processing tools, but in our case the tweet text was short and formatted in a standard way, which made it straight forward to extract the product text."
      ]
    },
    {
      "cell_type": "markdown",
      "metadata": {
        "id": "SzaAXFOnsVtR"
      },
      "source": [
        "## Troubleshooting\n",
        "\n",
        "If you get an error when running the code after making changes, please refresh the page to retrieve a fresh copy of the notebook.  \n",
        "\n",
        "If you think the issues are related to a bug outside of your control, then please flag this in the comments section for this activity."
      ]
    },
    {
      "cell_type": "code",
      "metadata": {
        "id": "bKydKWWpsVtS"
      },
      "source": [
        ""
      ],
      "execution_count": null,
      "outputs": []
    }
  ]
}